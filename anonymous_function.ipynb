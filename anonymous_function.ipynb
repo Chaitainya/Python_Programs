{
 "cells": [
  {
   "cell_type": "markdown",
   "metadata": {},
   "source": [
    "# In the program below, we have used an anonymous (lambda) function inside the map() built-in function to find the powers of 2."
   ]
  },
  {
   "cell_type": "code",
   "execution_count": 1,
   "metadata": {},
   "outputs": [
    {
     "name": "stdout",
     "output_type": "stream",
     "text": [
      "The total terms are: 10\n",
      "2 raised to power 0 is 1\n",
      "2 raised to power 1 is 2\n",
      "2 raised to power 2 is 4\n",
      "2 raised to power 3 is 8\n",
      "2 raised to power 4 is 16\n",
      "2 raised to power 5 is 32\n",
      "2 raised to power 6 is 64\n",
      "2 raised to power 7 is 128\n",
      "2 raised to power 8 is 256\n",
      "2 raised to power 9 is 512\n"
     ]
    }
   ],
   "source": [
    "# Display the powers of 2 using anonymous function\n",
    "\n",
    "terms = 10\n",
    "\n",
    "# Uncomment code below to take input from the user\n",
    "# terms = int(input(\"How many terms? \"))\n",
    "\n",
    "# use anonymous function\n",
    "result = list(map(lambda x: 2 ** x, range(terms)))\n",
    "\n",
    "print(\"The total terms are:\",terms)\n",
    "for i in range(terms):\n",
    "   print(\"2 raised to power\",i,\"is\",result[i])"
   ]
  },
  {
   "cell_type": "code",
   "execution_count": null,
   "metadata": {},
   "outputs": [],
   "source": []
  }
 ],
 "metadata": {
  "kernelspec": {
   "display_name": "Python 3",
   "language": "python",
   "name": "python3"
  },
  "language_info": {
   "codemirror_mode": {
    "name": "ipython",
    "version": 3
   },
   "file_extension": ".py",
   "mimetype": "text/x-python",
   "name": "python",
   "nbconvert_exporter": "python",
   "pygments_lexer": "ipython3",
   "version": "3.8.5"
  }
 },
 "nbformat": 4,
 "nbformat_minor": 4
}
